{
 "cells": [
  {
   "cell_type": "markdown",
   "metadata": {},
   "source": [
    "# Studio Esecutivo\n",
    "#### Filippo Iacobelli e Luca Rossicone"
   ]
  },
  {
   "cell_type": "markdown",
   "metadata": {},
   "source": [
    "Dallo studio preliminare è emerso come gli ampi tempi di esecuzione siano dovuti alle funzioni esterne `cuboidGrid` e `simplexGrid`.\n",
    "Abbiamo dunque tentato di aggirare queste funzioni andando a leggere i risultati direttamente da file. Offline vengono creati dei file di testo (in realtà si tratta di Artifacts) contenenti i risulati di `cuboidGrid` e `simplexGrid` con input standard e durante l'esecuzione le funzioni del modulo mapper dovranno solamente leggere i risultati da file. \n",
    "Visto che eseguiamo operazioni di I/O abbiamo pensato che sarebbe stato opportuno dividere le operazioni in Tasks o Threads per ottenere miglioramenti nelle prestazioni."
   ]
  },
  {
   "cell_type": "code",
   "execution_count": null,
   "metadata": {},
   "outputs": [],
   "source": [
    "using DelimitedFiles\n",
    "using Pkg.Artifacts\n",
    "using DataStructures\n",
    "using LinearAlgebraicRepresentation\n",
    "using IntelVectorMath\n",
    "using BenchmarkTools\n",
    "Lar = LinearAlgebraicRepresentation\n",
    "IVM = IntelVectorMath"
   ]
  },
  {
   "cell_type": "markdown",
   "metadata": {},
   "source": [
    "La funzione `simplifyCellsOpt` resta identica a quella realizzata nello studio precedente."
   ]
  },
  {
   "cell_type": "code",
   "execution_count": null,
   "metadata": {},
   "outputs": [],
   "source": [
    "function simplifyCellsOpt(V,CV)::Tuple{Matrix{Float64},Vector{Vector{Int64}}}\n",
    "\tPRECISION = 5\n",
    "\tvertDict = DefaultDict{Array{Float64,1}, Int64}(0)\n",
    "\tindex = 0\n",
    "\tW = Array{Float64,1}[]\n",
    "\tFW = Array{Int64,1}[]\n",
    "\t@inbounds @simd for incell in CV\n",
    "\t\toutcell = Int64[]\n",
    "\t\t@inbounds @simd for v in incell\n",
    "\t\t\tvert = @view V[:,v]\n",
    "\t\t\tkey = map(Lar.approxVal(PRECISION), vert)\n",
    "\t\t\tif vertDict[key]==0\n",
    "\t\t\t\tindex += 1\n",
    "\t\t\t\tvertDict[key] = index\n",
    "\t\t\t\tpush!(outcell, index)\n",
    "\t\t\t\tpush!(W,key)\n",
    "\t\t\telse\n",
    "\t\t\t\tpush!(outcell, vertDict[key])\n",
    "\t\t\tend\n",
    "\t\tend\n",
    "\t\tappend!(FW, [[Set(outcell)...]])\n",
    "\tend\n",
    "\treturn hcat(W...),FW\n",
    "end"
   ]
  },
  {
   "cell_type": "markdown",
   "metadata": {},
   "source": [
    "Come detto in precedenza scriviamo i domini necessari alle esecuzioni delle successive funzioni su file in formato txt. Poiché la funzione `writedlm` è adatta a scrivere matrici, nel caso degli spigoli siamo stati costretti a modificarne leggeremente il formato per poi ripristrinarlo successivamente."
   ]
  },
  {
   "cell_type": "code",
   "execution_count": null,
   "metadata": {},
   "outputs": [],
   "source": [
    "function writeDomain(shapeCircle=[36],shapeToroidal=[24,36],shapeCuboid=[1,1,1])\n",
    "    V,EV = Lar.cuboidGrid(shapeCircle)\n",
    "    if !isdir(\"../domain\")\n",
    "        mkdir(\"../domain\")\n",
    "    end\n",
    "    cd(\"..\")\n",
    "    open(\"domain/circleVertex.txt\", \"w\") do io\n",
    "        writedlm(io, V)\n",
    "    end\n",
    "    open(\"domain/circleEdge.txt\", \"w\") do io\n",
    "        writedlm(io, hcat(EV...))\n",
    "    end\n",
    "    V,CV = Lar.simplexGrid(shapeToroidal)\n",
    "    open(\"domain/toroidalVertex.txt\", \"w\") do io\n",
    "        writedlm(io, V)\n",
    "    end\n",
    "    open(\"domain/toroidalEdge.txt\", \"w\") do io\n",
    "        writedlm(io, hcat(CV...))\n",
    "    end\n",
    "    V,EV = Lar.cuboidGrid(shapeCuboid)\n",
    "    open(\"domain/cuboidVertex.txt\", \"w\") do io\n",
    "        writedlm(io, V)\n",
    "    end\n",
    "    open(\"domain/cuboidEdge.txt\", \"w\") do io\n",
    "        writedlm(io, hcat(EV...))\n",
    "    end\n",
    "end"
   ]
  },
  {
   "cell_type": "markdown",
   "metadata": {},
   "source": [
    "Realizziamo a partire dai file di testo degli Artifacts (per maggiori informazioni si può leggere la relazione). Viene creato anche il file\n",
    "`Artifacts.toml` contenente l'hash dell'artifact e il link dove è possibile reperirlo qualora non fosse disponibile localmente."
   ]
  },
  {
   "cell_type": "code",
   "execution_count": null,
   "metadata": {},
   "outputs": [],
   "source": [
    "function createArtifacts()\n",
    "    cd(\"..\")\n",
    "    hash = create_artifact() do dir\n",
    "        cp(\"domain/circleVertex.txt\", joinpath(dir, \"circleVertex.txt\"))\n",
    "        cp(\"domain/circleEdge.txt\", joinpath(dir, \"circleEdge.txt\"))\n",
    "        cp(\"domain/toroidalVertex.txt\", joinpath(dir, \"toroidalVertex.txt\"))\n",
    "        cp(\"domain/toroidalEdge.txt\", joinpath(dir, \"toroidalEdge.txt\"))\n",
    "        cp(\"domain/cuboidVertex.txt\", joinpath(dir, \"cuboidVertex.txt\"))\n",
    "        cp(\"domain/cuboidEdge.txt\", joinpath(dir, \"cuboidEdge.txt\"))\n",
    "    end\n",
    "    tarball_hash = archive_artifact(hash, \"domain.tar.gz\")\n",
    "    bind_artifact!(\"Artifacts.toml\", \"domain\", hash,\n",
    "        download_info=[(\"https://bitbucket.org/zoso9999/linearalgebraicrepresentation/src/filippo/domain.tar.gz\", \n",
    "                        tarball_hash)])\n",
    "end \n"
   ]
  },
  {
   "cell_type": "code",
   "execution_count": null,
   "metadata": {},
   "outputs": [],
   "source": [
    "# writeDomain()\n",
    "# createArtifacts()"
   ]
  },
  {
   "cell_type": "markdown",
   "metadata": {},
   "source": [
    "Con le funzioni `readArtifacts*` recuperiamo i domini salvati sugli artifacts e ne ripristiniamo l'opportuno formato (matrice e vettore di vettori)."
   ]
  },
  {
   "cell_type": "code",
   "execution_count": null,
   "metadata": {},
   "outputs": [],
   "source": [
    "function readArtifactsCircle()\n",
    "    vertex = joinpath(artifact\"domain\", \"circleVertex.txt\")\n",
    "    V = readdlm(vertex, '\\t', Float64, '\\n', use_mmap=true, dims=(1,37))\n",
    "    edge = joinpath(artifact\"domain\", \"circleEdge.txt\")\n",
    "    ev = readdlm(edge, '\\t', Int64, '\\n', use_mmap=true, dims=(2,36))\n",
    "    EV = Array{Int64,1}[]\n",
    "    for col in eachcol(ev)\n",
    "        push!(EV,col)\n",
    "    end\n",
    "    V,EV\n",
    "end\n"
   ]
  },
  {
   "cell_type": "markdown",
   "metadata": {},
   "source": [
    "Confrontando i tempi fra l'eecuzione della funzione `simplexGrid` e `readArtifacts*` è possibile notare come almeno ad una prima esecuzione lo speedup ottenuto è notevole."
   ]
  },
  {
   "cell_type": "code",
   "execution_count": null,
   "metadata": {},
   "outputs": [],
   "source": [
    "@time readArtifactsCircle()\n",
    "@time Lar.simplexGrid([36])"
   ]
  },
  {
   "cell_type": "markdown",
   "metadata": {},
   "source": [
    "Già ad una seconda esecuzione la differenza non è più così ampia. In seguito ad una prima esecuzione infatti i risultati vengono salvati in cache e una successiva chiamata evita che la funzione venga rieseguita per intero ottimizzando di molto i tempi. Per questa ragione abbiamo preferito utilizzare la macro `@time` che prende i tempi su una singola esecuzione piuttosto che `@btime` che invece lancia la funzione più volte."
   ]
  },
  {
   "cell_type": "code",
   "execution_count": null,
   "metadata": {},
   "outputs": [],
   "source": [
    "@time readArtifactsCircle()\n",
    "@time Lar.simplexGrid([36])"
   ]
  },
  {
   "cell_type": "markdown",
   "metadata": {},
   "source": [
    "Per migliorare ancor di più le prestazioni abbiamo pensato di realizzare più Tasks o Threads e misuare i tempi dopo queste ottimizzazioni."
   ]
  },
  {
   "cell_type": "code",
   "execution_count": null,
   "metadata": {},
   "outputs": [],
   "source": [
    "function readArtifactsToroidal()\n",
    "    ev = readdlm(joinpath(artifact\"domain\", \"toroidalEdge.txt\"), '\\t', Int64, '\\n', use_mmap=true, dims=(3,1728))\n",
    "    V = readdlm(joinpath(artifact\"domain\", \"toroidalVertex.txt\"), '\\t', Float64, '\\n', use_mmap=true, dims=(2,925))\n",
    "    EV = Array{Int64,1}[]\n",
    "    for col in eachcol(ev)\n",
    "        push!(EV,col)\n",
    "    end\n",
    "    V,EV\n",
    "end"
   ]
  },
  {
   "cell_type": "code",
   "execution_count": null,
   "metadata": {},
   "outputs": [],
   "source": [
    "\n",
    "function readArtifactsToroidalThreads() \n",
    "    edge() = readdlm(joinpath(artifact\"domain\", \"toroidalEdge.txt\"), '\\t', Int64, '\\n', use_mmap=true, dims=(3,1728))\n",
    "    vertex() = readdlm(joinpath(artifact\"domain\", \"toroidalVertex.txt\"), '\\t', Float64, '\\n', use_mmap=true, dims=(2,925))\n",
    "    t1 = Base.Threads.@spawn edge()\n",
    "    t2 = Base.Threads.@spawn vertex()\n",
    "    EV = Array{Int64,1}[]\n",
    "    ev = fetch(t1)\n",
    "    for col in eachcol(ev)\n",
    "        push!(EV,col)\n",
    "    end\n",
    "    V = fetch(t2)\n",
    "    V,EV\n",
    "end"
   ]
  },
  {
   "cell_type": "code",
   "execution_count": null,
   "metadata": {},
   "outputs": [],
   "source": [
    "function readArtifactsToroidalTask() \n",
    "    edge() = readdlm(joinpath(artifact\"domain\", \"toroidalEdge.txt\"), '\\t', Int64, '\\n', use_mmap=true, dims=(3,1728))\n",
    "    vertex() = readdlm(joinpath(artifact\"domain\", \"toroidalVertex.txt\"), '\\t', Float64, '\\n', use_mmap=true, dims=(2,925))\n",
    "    @async edge()\n",
    "    @async vertex()\n",
    "    EV = Array{Int64,1}[]\n",
    "    ev = edge()\n",
    "    @sync for col in eachcol(ev)\n",
    "        push!(EV,col)\n",
    "    end\n",
    "    V = vertex()\n",
    "    V,EV\n",
    "end"
   ]
  },
  {
   "cell_type": "markdown",
   "metadata": {},
   "source": [
    "Grazie alle operazioni di I/O che possono essere facilmente parellelizzate, si può notare come la soluzione multiple threads sia la più efficace seguita da quella con più task. In questo caso la macro `@btime` non crea problemi poiché non vi sono risulati di operazioni che vengono salvati e dunque è possibile utilizzarla per effettuare benchmark."
   ]
  },
  {
   "cell_type": "code",
   "execution_count": null,
   "metadata": {},
   "outputs": [],
   "source": [
    "@btime readArtifactsToroidal()\n",
    "@btime readArtifactsToroidalThreads()\n",
    "@btime readArtifactsToroidalTask()"
   ]
  },
  {
   "cell_type": "markdown",
   "metadata": {},
   "source": [
    "Di seguito cerchiamo di analizzare lo speedup ottenuto dalle funzioni prese come modelli nello studio preliminare utilizzando però l'implmentazione appena descritta per il calcolo dei domini. Si nota come questo oscilli fra il *4x* e l'*8x* a seconda dei casi.  "
   ]
  },
  {
   "cell_type": "code",
   "execution_count": null,
   "metadata": {},
   "outputs": [],
   "source": [
    "function circle(radius=1., angle=2*pi)\n",
    "    function circle0(shape=[36])\n",
    "        V, EV = Lar.cuboidGrid(shape)\n",
    "        V = (angle/shape[1])*V\n",
    "        V = hcat(map(u->[radius*cos(u); radius*sin(u)], V)...)\n",
    "        W, EW = Lar.simplifyCells(V, EV)\n",
    "        return W, EW\n",
    "    end\n",
    "    return circle0\n",
    "end"
   ]
  },
  {
   "cell_type": "code",
   "execution_count": null,
   "metadata": {},
   "outputs": [],
   "source": [
    "function circleOpt(radius=1., angle=2*pi)\n",
    "    V,EV = readArtifactsCircle()\n",
    "    V = (angle/size(EV)[1])*V\n",
    "    V = vcat(radius*IVM.cos(V),radius*IVM.sin!(V))\n",
    "    W, EW = simplifyCellsOpt(V, EV)\n",
    "    return W, EW\n",
    "end"
   ]
  },
  {
   "cell_type": "code",
   "execution_count": null,
   "metadata": {},
   "outputs": [],
   "source": [
    "@time circleOpt()\n",
    "@time circle()()"
   ]
  },
  {
   "cell_type": "code",
   "execution_count": null,
   "metadata": {},
   "outputs": [],
   "source": [
    "\n",
    "function toroidal(r=1., R=2., angle1=2*pi, angle2=2*pi)\n",
    "    function toroidal0(shape=[24,36])\n",
    "        V, CV = Lar.simplexGrid(shape)\n",
    "        V = [angle1/(shape[1]) 0;0 angle2/(shape[2])]*V\n",
    "        W = [V[:, k] for k=1:size(V, 2)]\n",
    "        V = hcat(map(p->let(u, v)=p;[(R+r*cos(u))*cos(v);\n",
    "          (R+r*cos(u))*sin(v);-r*sin(u)]end, W)...)\n",
    "        W, CW = Lar.simplifyCells(V, CV)\n",
    "        return W, CW\n",
    "    end\n",
    "    return toroidal0\n",
    "  end"
   ]
  },
  {
   "cell_type": "code",
   "execution_count": null,
   "metadata": {},
   "outputs": [],
   "source": [
    "function toroidalOpt(r=1., R=2., angle1=2*pi, angle2=2*pi)\n",
    "    shape=[24,36]\n",
    "    V, CV = readArtifactsToroidalThreads()\n",
    "    V = [angle1/(shape[1]) 0;0 angle2/(shape[2])]*V\n",
    "    U = V[1,:]; Z = V[2,:]\n",
    "    sinU = IVM.sin(U); sinZ = IVM.sin(Z)\n",
    "    IVM.cos!(U); IVM.cos!(Z)\n",
    "    tmp = r*U.+R\n",
    "    V = hcat(tmp.*Z, tmp.*sinZ, -r*sinU)\n",
    "    W, CW = simplifyCellsOpt(V', CV)\n",
    "    W, CW\n",
    "end"
   ]
  },
  {
   "cell_type": "code",
   "execution_count": 18,
   "metadata": {},
   "outputs": [],
   "source": [
    "@time toroidal()()\n",
    "@time toroidalOpt()"
   ]
  },
  {
   "cell_type": "code",
   "execution_count": null,
   "metadata": {},
   "outputs": [],
   "source": [
    "function readArtifactsCuboid()\n",
    "    vertex = joinpath(artifact\"domain\", \"cuboidVertex.txt\")\n",
    "    V = readdlm(vertex, '\\t', Float64, '\\n', use_mmap=true, dims=(3,8))\n",
    "    edge = joinpath(artifact\"domain\", \"cuboidEdge.txt\")\n",
    "    ev = readdlm(edge, '\\t', Int64, '\\n', use_mmap=true, dims=(8,1))\n",
    "    EV = Array{Int64,1}[]\n",
    "    for col in eachcol(ev)\n",
    "        push!(EV,col)\n",
    "    end\n",
    "    V,EV\n",
    "end"
   ]
  },
  {
   "cell_type": "code",
   "execution_count": null,
   "metadata": {},
   "outputs": [],
   "source": [
    "function cuboid(maxpoint=[1,1,1], full=false,\n",
    "    minpoint::Array=zeros(length(maxpoint)))\n",
    "    @assert( length(minpoint) == length(maxpoint) )\n",
    "    dim = length(minpoint)\n",
    "    shape = ones(Int, dim)\n",
    "    cell = Lar.cuboidGrid(shape, full)\n",
    "    size = maxpoint - minpoint\n",
    "    out = Lar.apply(Lar.t(minpoint...) * Lar.s(size...), cell)\n",
    "end"
   ]
  },
  {
   "cell_type": "code",
   "execution_count": null,
   "metadata": {},
   "outputs": [],
   "source": [
    "function cuboidOpt(maxpoint=[1,1,1], full=false,\n",
    "    minpoint::Array=zeros(length(maxpoint)))::\n",
    "    Tuple{Matrix{Float64},Vector{Vector{Int64}}}\n",
    "    @assert length(minpoint) == length(maxpoint)\n",
    "    dim = length(maxpoint)\n",
    "    shape = ones(Int, dim)\n",
    "    cell = readArtifactsCuboid()\n",
    "    out = Lar.apply(Lar.t(minpoint...) * Lar.s(maxpoint...), cell)\n",
    "end"
   ]
  },
  {
   "cell_type": "code",
   "execution_count": null,
   "metadata": {},
   "outputs": [],
   "source": [
    "@time cuboid()\n",
    "@time cuboidOpt()"
   ]
  },
  {
   "cell_type": "markdown",
   "metadata": {},
   "source": [
    "[*Link al repository del progetto*](https://github.com/Asprofumo/mapper.jl/)"
   ]
  }
 ],
 "metadata": {
  "kernelspec": {
   "display_name": "Julia 1.6.5",
   "language": "julia",
   "name": "julia-1.6"
  },
  "language_info": {
   "file_extension": ".jl",
   "mimetype": "application/julia",
   "name": "julia",
   "version": "1.6.5"
  },
  "orig_nbformat": 4
 },
 "nbformat": 4,
 "nbformat_minor": 2
}
