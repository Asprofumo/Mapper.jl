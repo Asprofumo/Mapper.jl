{
 "cells": [
  {
   "cell_type": "markdown",
   "metadata": {},
   "source": [
    "# Studio Preliminare\n",
    "#### Filippo Iacobelli e Luca Rossicone"
   ]
  },
  {
   "cell_type": "markdown",
   "metadata": {},
   "source": [
    "## Lista delle primitive interne al modulo Mapper.jl"
   ]
  },
  {
   "cell_type": "markdown",
   "metadata": {},
   "source": [
    "### Primitive sulle curve\n",
    "\n",
    "```@docs\n",
    "Lar.circle\n",
    "```\n",
    "\n",
    "```@docs\n",
    "Lar.helix\n",
    "```\n"
   ]
  },
  {
   "cell_type": "markdown",
   "metadata": {},
   "source": [
    "\n",
    "### Primitive di superficie\n",
    "\n",
    "```@docs\n",
    "Lar.disk\n",
    "```\n",
    "\n",
    "```@docs\n",
    "Lar.helicoid\n",
    "```\n",
    "\n",
    "```@docs\n",
    "Lar.ring\n",
    "```\n",
    "\n",
    "```@docs\n",
    "Lar.cylinder\n",
    "```\n",
    "\n",
    "```@docs\n",
    "Lar.sphere\n",
    "```\n",
    "\n",
    "```@docs\n",
    "Lar.toroidal\n",
    "```\n"
   ]
  },
  {
   "cell_type": "markdown",
   "metadata": {},
   "source": [
    "\n",
    "### Primitive solide\n",
    "\n",
    "```@docs\n",
    "Lar.cuboid\n",
    "```\n",
    "\n",
    "```@docs\n",
    "Lar.ball\n",
    "```\n",
    "\n",
    "```@docs\n",
    "Lar.hollowCyl\n",
    "```\n",
    "\n",
    "```@docs\n",
    "Lar.hollowBall\n",
    "```\n",
    "\n",
    "```@docs\n",
    "Lar.torus\n",
    "```\n"
   ]
  },
  {
   "cell_type": "markdown",
   "metadata": {},
   "source": [
    "\n",
    "### Funzioni ausiliarie\n",
    "\n",
    "```@docs\n",
    "Lar.approxVal\n",
    "```\n",
    "\n",
    "```@docs\n",
    "Lar.simplyfyCells\n",
    "```\n"
   ]
  },
  {
   "cell_type": "markdown",
   "metadata": {},
   "source": [
    "## Lista delle primitive esterne al modulo Mapper.jl"
   ]
  },
  {
   "cell_type": "markdown",
   "metadata": {},
   "source": [
    "```@docs\n",
    "Lar.cuboidGrid\n",
    "```\n",
    "\n",
    "```@docs\n",
    "Lar.simplexGrid\n",
    "```\n",
    "```@docs\n",
    "Lar.apply\n",
    "```\n",
    "\n",
    "```@docs\n",
    "Lar.t\n",
    "```\n",
    "\n",
    "```@docs\n",
    "Lar.s\n",
    "```"
   ]
  },
  {
   "cell_type": "markdown",
   "metadata": {},
   "source": [
    "## Protipi di funzioni da ottimizzare"
   ]
  },
  {
   "cell_type": "code",
   "execution_count": 1,
   "metadata": {},
   "outputs": [
    {
     "data": {
      "text/plain": [
       "IntelVectorMath"
      ]
     },
     "metadata": {},
     "output_type": "display_data"
    }
   ],
   "source": [
    "using DataStructures\n",
    "using BenchmarkTools\n",
    "using LinearAlgebraicRepresentation\n",
    "using ViewerGL\n",
    "using IntelVectorMath\n",
    "using LinearAlgebra\n",
    "Lar = LinearAlgebraicRepresentation\n",
    "GL = ViewerGL\n",
    "LA = LinearAlgebra\n",
    "IVM = IntelVectorMath\n"
   ]
  },
  {
   "cell_type": "code",
   "execution_count": 2,
   "metadata": {},
   "outputs": [
    {
     "data": {
      "text/plain": [
       "simplifyCells (generic function with 1 method)"
      ]
     },
     "metadata": {},
     "output_type": "display_data"
    }
   ],
   "source": [
    "function simplifyCells(V,CV)\n",
    "\tPRECISION = 5\n",
    "\tvertDict = DefaultDict{Array{Float64,1}, Int64}(0)\n",
    "\tindex = 0\n",
    "\tW = Array{Float64,1}[]\n",
    "\tFW = Array{Int64,1}[]\n",
    "\n",
    "\tfor incell in CV\n",
    "\t\toutcell = Int64[]\n",
    "\t\tfor v in incell\n",
    "\t\t\tvert = V[:,v]\n",
    "\t\t\tkey = map(Lar.approxVal(PRECISION), vert)\n",
    "\t\t\tif vertDict[key]==0\n",
    "\t\t\t\tindex += 1\n",
    "\t\t\t\tvertDict[key] = index\n",
    "\t\t\t\tpush!(outcell, index)\n",
    "\t\t\t\tpush!(W,key)\n",
    "\t\t\telse\n",
    "\t\t\t\tpush!(outcell, vertDict[key])\n",
    "\t\t\tend\n",
    "\t\tend\n",
    "\t\tappend!(FW, [[Set(outcell)...]])\n",
    "\tend\n",
    "\treturn hcat(W...),FW\n",
    "end"
   ]
  },
  {
   "cell_type": "code",
   "execution_count": 3,
   "metadata": {},
   "outputs": [
    {
     "data": {
      "text/plain": [
       "simplifyCellsOpt (generic function with 1 method)"
      ]
     },
     "metadata": {},
     "output_type": "display_data"
    }
   ],
   "source": [
    "function simplifyCellsOpt(V,CV)::Tuple{Matrix{Float64},Vector{Vector{Int64}}}\n",
    "\tPRECISION = 5\n",
    "\tvertDict = DefaultDict{Array{Float64,1}, Int64}(0)\n",
    "\tindex = 0\n",
    "\tW = Array{Float64,1}[]\n",
    "\tFW = Array{Int64,1}[]\n",
    "\n",
    "\t@inbounds @simd for incell in CV\n",
    "\t\toutcell = Int64[]\n",
    "\t\t@inbounds @simd for v in incell\n",
    "\t\t\tvert = @view V[:,v]\n",
    "\t\t\tkey = map(Lar.approxVal(PRECISION), vert)\n",
    "\t\t\tif vertDict[key]==0\n",
    "\t\t\t\tindex += 1\n",
    "\t\t\t\tvertDict[key] = index\n",
    "\t\t\t\tpush!(outcell, index)\n",
    "\t\t\t\tpush!(W,key)\n",
    "\t\t\telse\n",
    "\t\t\t\tpush!(outcell, vertDict[key])\n",
    "\t\t\tend\n",
    "\t\tend\n",
    "\t\tappend!(FW, [[Set(outcell)...]])\n",
    "\tend\n",
    "\treturn hcat(W...),FW\n",
    "end"
   ]
  },
  {
   "cell_type": "code",
   "execution_count": 4,
   "metadata": {},
   "outputs": [
    {
     "name": "stdout",
     "output_type": "stream",
     "text": [
      "  76.172 μs (853 allocations: 57.95 KiB)\n"
     ]
    },
    {
     "name": "stdout",
     "output_type": "stream",
     "text": [
      "  73.244 μs"
     ]
    },
    {
     "name": "stdout",
     "output_type": "stream",
     "text": [
      " (998 allocations: 63.61 KiB)\n"
     ]
    },
    {
     "data": {
      "text/plain": [
       "([0.0 1.0 … 35.0 36.0], [[2, 1], [2, 3], [4, 3], [5, 4], [5, 6], [6, 7], [7, 8], [9, 8], [10, 9], [11, 10]  …  [27, 28], [29, 28], [29, 30], [31, 30], [32, 31], [32, 33], [34, 33], [34, 35], [35, 36], [36, 37]])"
      ]
     },
     "metadata": {},
     "output_type": "display_data"
    }
   ],
   "source": [
    "V, EV = Lar.cuboidGrid([36])\n",
    "@btime simplifyCells(V, EV)\n",
    "V, EV = Lar.cuboidGrid([36])\n",
    "@btime simplifyCellsOpt(V, EV)"
   ]
  },
  {
   "cell_type": "code",
   "execution_count": 5,
   "metadata": {},
   "outputs": [
    {
     "data": {
      "text/plain": [
       "circle (generic function with 3 methods)"
      ]
     },
     "metadata": {},
     "output_type": "display_data"
    }
   ],
   "source": [
    "function circle(radius=1., angle=2*pi)\n",
    "    function circle0(shape=[36])\n",
    "        V, EV = Lar.cuboidGrid(shape)\n",
    "        V = (angle/shape[1])*V\n",
    "        V = hcat(map(u->[radius*cos(u); radius*sin(u)], V)...)\n",
    "        W, EW = simplifyCells(V, EV)\n",
    "        return W, EW\n",
    "    end\n",
    "    return circle0\n",
    "end"
   ]
  },
  {
   "cell_type": "code",
   "execution_count": 6,
   "metadata": {},
   "outputs": [
    {
     "data": {
      "text/plain": [
       "circleOpt (generic function with 3 methods)"
      ]
     },
     "metadata": {},
     "output_type": "display_data"
    }
   ],
   "source": [
    "function circleOpt(radius=1., angle=2*pi)\n",
    "    function circle0(shape=[36])\n",
    "        V, EV = Lar.cuboidGrid(shape)\n",
    "        V = (angle/shape[1])*V\n",
    "        V = vcat(radius*IVM.cos(V),radius*IVM.sin!(V))\n",
    "        W, EW = simplifyCellsOpt(V, EV)\n",
    "        return W, EW\n",
    "    end\n",
    "    return circle0\n",
    "end"
   ]
  },
  {
   "cell_type": "code",
   "execution_count": 7,
   "metadata": {},
   "outputs": [
    {
     "name": "stdout",
     "output_type": "stream",
     "text": [
      "  169.015 μs (2134 allocations: 149.92 KiB)\n"
     ]
    },
    {
     "name": "stdout",
     "output_type": "stream",
     "text": [
      "  163.705 μs (2239 allocations: 151.88 KiB)\n"
     ]
    },
    {
     "data": {
      "text/plain": [
       "([1.0 0.98481 … 0.93969 0.98481; 0.0 0.17365 … -0.34202 -0.17365], [[2, 1], [2, 3], [4, 3], [5, 4], [5, 6], [6, 7], [7, 8], [9, 8], [10, 9], [11, 10]  …  [27, 28], [29, 28], [29, 30], [31, 30], [32, 31], [32, 33], [34, 33], [34, 35], [35, 36], [36, 1]])"
      ]
     },
     "metadata": {},
     "output_type": "display_data"
    }
   ],
   "source": [
    "@btime circle()()\n",
    "@btime circleOpt()()"
   ]
  },
  {
   "cell_type": "code",
   "execution_count": 8,
   "metadata": {},
   "outputs": [],
   "source": [
    "# GL.VIEW([\n",
    "# \tGL.GLLines(circleOpt()()..., GL.COLORS[6]),\n",
    "# \tGL.GLFrame\n",
    "# ]);"
   ]
  },
  {
   "cell_type": "code",
   "execution_count": 9,
   "metadata": {},
   "outputs": [
    {
     "data": {
      "text/plain": [
       "toroidal (generic function with 5 methods)"
      ]
     },
     "metadata": {},
     "output_type": "display_data"
    }
   ],
   "source": [
    "function toroidal(r=1., R=2., angle1=2*pi, angle2=2*pi)\n",
    "  function toroidal0(shape=[24, 36])\n",
    "      V, CV = Lar.simplexGrid(shape)\n",
    "      V = [angle1/(shape[1]) 0;0 angle2/(shape[2])]*V\n",
    "      W = [V[:, k] for k=1:size(V, 2)]\n",
    "      V = hcat(map(p->let(u, v)=p;[(R+r*cos(u))*cos(v);\n",
    "        (R+r*cos(u))*sin(v);-r*sin(u)]end, W)...)\n",
    "      W, CW = simplifyCells(V, CV)\n",
    "      return W, CW\n",
    "  end\n",
    "  return toroidal0\n",
    "end"
   ]
  },
  {
   "cell_type": "code",
   "execution_count": 10,
   "metadata": {},
   "outputs": [
    {
     "data": {
      "text/plain": [
       "toroidalOpt (generic function with 5 methods)"
      ]
     },
     "metadata": {},
     "output_type": "display_data"
    }
   ],
   "source": [
    "function toroidalOpt(r=1., R=2., angle1=2*pi, angle2=2*pi)\n",
    "    function toroidal0(shape=[24, 36])\n",
    "        V, CV = Lar.simplexGrid(shape)\n",
    "        V = [angle1/(shape[1]) 0;0 angle2/(shape[2])]*V\n",
    "        U = V[1,:]; Z = V[2,:]\n",
    "        sinU = IVM.sin(U); sinZ = IVM.sin(Z)\n",
    "        IVM.cos!(U); IVM.cos!(Z)\n",
    "        tmp = r*U.+R\n",
    "        V = hcat(tmp.*Z, tmp.*sinZ, -r*sinU)\n",
    "        W, CW = simplifyCellsOpt(V', CV)\n",
    "        return W, CW\n",
    "    end\n",
    "    return toroidal0\n",
    "end"
   ]
  },
  {
   "cell_type": "code",
   "execution_count": 11,
   "metadata": {},
   "outputs": [
    {
     "name": "stdout",
     "output_type": "stream",
     "text": [
      "  7.312 ms (68794 allocations: 4.80 MiB)\n"
     ]
    },
    {
     "name": "stdout",
     "output_type": "stream",
     "text": [
      "  6.914 ms (75567 allocations: 4.93 MiB)\n"
     ]
    },
    {
     "data": {
      "text/plain": [
       "([3.0 2.96593 … 2.82248 2.92087; 0.0 0.0 … -0.49768 -0.51503; 0.0 -0.25882 … 0.5 0.25882], [[2, 3, 1], [4, 2, 3], [5, 4, 2], [5, 4, 6], [5, 6, 7], [6, 7, 8], [7, 9, 8], [10, 9, 8], [11, 10, 9], [11, 10, 12]  …  [39, 861, 860], [39, 41, 861], [41, 861, 862], [41, 43, 862], [43, 863, 862], [43, 45, 863], [45, 863, 864], [47, 45, 864], [841, 47, 864], [841, 47, 1]])"
      ]
     },
     "metadata": {},
     "output_type": "display_data"
    }
   ],
   "source": [
    "@btime toroidal()()\n",
    "@btime toroidalOpt()()"
   ]
  },
  {
   "cell_type": "code",
   "execution_count": 12,
   "metadata": {},
   "outputs": [],
   "source": [
    "# GL.VIEW([\n",
    "# \tGL.GLGrid(toroidalOpt()()..., GL.COLORS[1]),\n",
    "# \tGL.GLFrame\n",
    "# ]);"
   ]
  },
  {
   "cell_type": "code",
   "execution_count": 13,
   "metadata": {},
   "outputs": [
    {
     "data": {
      "text/plain": [
       "cuboid (generic function with 3 methods)"
      ]
     },
     "metadata": {},
     "output_type": "display_data"
    }
   ],
   "source": [
    "function cuboid(maxpoint::Array, full=false,\n",
    "    minpoint::Array=zeros(length(maxpoint)))\n",
    "    @assert( length(minpoint) == length(maxpoint) )\n",
    "    dim = length(minpoint)\n",
    "    shape = ones(Int, dim)\n",
    "    cell = Lar.cuboidGrid(shape, full)\n",
    "    size = maxpoint - minpoint\n",
    "    out = Lar.apply(Lar.t(minpoint...) * Lar.s(size...), cell)\n",
    "end\n"
   ]
  },
  {
   "cell_type": "code",
   "execution_count": 14,
   "metadata": {},
   "outputs": [
    {
     "data": {
      "text/plain": [
       "cuboidOpt (generic function with 3 methods)"
      ]
     },
     "metadata": {},
     "output_type": "display_data"
    }
   ],
   "source": [
    "function cuboidOpt(maxpoint::Array, full=false,\n",
    "    minpoint::Array=zeros(length(maxpoint)))::\n",
    "    Tuple{Matrix{Float64},Vector{Vector{Int64}}}\n",
    "    @assert length(minpoint) == length(maxpoint)\n",
    "    dim = length(maxpoint)\n",
    "    shape = ones(Int, dim)\n",
    "    cell = Lar.cuboidGrid(shape, full)\n",
    "    out = Lar.apply(Lar.t(minpoint...) * Lar.s(maxpoint...), cell)\n",
    "end"
   ]
  },
  {
   "cell_type": "code",
   "execution_count": 25,
   "metadata": {},
   "outputs": [
    {
     "name": "stdout",
     "output_type": "stream",
     "text": [
      "  19.505 μs (286 allocations: 21.64 KiB)\n"
     ]
    },
    {
     "name": "stdout",
     "output_type": "stream",
     "text": [
      "  18.484 μs (282 allocations: 21.48 KiB)\n"
     ]
    },
    {
     "data": {
      "text/plain": [
       "([0.0 0.0 … 1.0 1.0; 0.0 0.0 … 1.0 1.0; 0.0 1.0 … 0.0 1.0], [[1, 2, 3, 4, 5, 6, 7, 8]])"
      ]
     },
     "metadata": {},
     "output_type": "display_data"
    }
   ],
   "source": [
    "@btime cuboid([1,1,1])\n",
    "@btime cuboidOpt([1,1,1])"
   ]
  },
  {
   "cell_type": "code",
   "execution_count": 16,
   "metadata": {},
   "outputs": [],
   "source": [
    "# V, (VV, EV, FV, CV) = Lar.cuboid([1,1,1], true);\n",
    "# assembly = Lar.Struct([ (V, CV), Lar.t(1.5,0,0), (V, CV) ])\n",
    "# GL.VIEW([\n",
    "# \tGL.GLPol( Lar.struct2lar(assembly)..., GL.COLORS[1],0.75 ),\n",
    "# \tGL.GLFrame \n",
    "# ]);"
   ]
  },
  {
   "cell_type": "markdown",
   "metadata": {},
   "source": [
    "## Conclusioni\n",
    "\n",
    "È facile osservare come i vantaggi ottenuti con gli accorgimenti effettuati portono a benefici irrisori in termini tempistici.\n",
    "Questo comportamento si può facilmente giustificare effettuando il profiling delle funzioni e riscontrando che i calcoli maggiormente onerosi sono dovuti a funzioni esterne (in particolare `cuboidGrid` e `simplexGrid`)."
   ]
  },
  {
   "cell_type": "code",
   "execution_count": 24,
   "metadata": {},
   "outputs": [
    {
     "name": "stdout",
     "output_type": "stream",
     "text": [
      " Count  Overhead File                    Line Function\n",
      " =====  ======== ====                    ==== ========\n",
      "    44         0 @Base/Base.jl            384 include(mod::Module, _path::Str...\n",
      "    16        16 @Base/abstractarray.jl  1167 getindex(::Matrix{Float64}, ::F...\n",
      "     1         0 @Base/abstractarray.jl  1170 getindex\n",
      "     1         0 @Base/abstractarray.jl  1170 getindex(::Matrix{Float64}, ::F...\n",
      "     3         0 @Base/abstractarray.jl  2395 hash(A::Vector{Float64}, h::UIn...\n",
      "     1         0 @Base/abstractarray.jl  2399 hash(A::Vector{Float64}, h::UIn...\n",
      "    11         3 @Base/abstractarray.jl  2294 map(f::Function, A::Vector{Floa...\n",
      "     2         0 @Base/abstractarray.jl   740 similar\n",
      "     4         0 @Base/abstractdict.jl    507 get!\n",
      "     1         1 @Base/array.jl             ? _collect(c::Vector{Float64}, it...\n",
      "     3         0 @Base/array.jl           695 _collect(c::Vector{Float64}, it...\n",
      "     4         0 @Base/array.jl           700 _collect(c::Vector{Float64}, it...\n",
      "     1         1 @Base/array.jl           888 _growend!\n",
      "    17         0 @Base/array.jl           687 collect(itr::Base.Generator{Uni...\n",
      "     8         0 @Base/array.jl           606 collect_similar(cont::Vector{Fl...\n",
      "    21         0 @Base/array.jl           728 collect_to!(dest::Vector{Float6...\n",
      "     4         0 @Base/array.jl           706 collect_to_with_first!\n",
      "    17         0 @Base/array.jl           706 collect_to_with_first!(dest::Ve...\n",
      "     1         0 @Base/array.jl           933 push!\n",
      "     1         1 @Base/array.jl           843 setindex!\n",
      "     2         0 @Base/array.jl           358 similar\n",
      "     1         0 @Base/array.jl           108 vect\n",
      "     2         2 @Base/boot.jl            448 Array\n",
      "     2         0 @Base/boot.jl            457 Array\n",
      "    44         1 @Base/boot.jl            360 eval\n",
      "    44         0 @Base/client.jl          485 _start()\n",
      "    44         0 @Base/client.jl          285 exec_options(opts::Base.JLOptions)\n",
      "     4         0 @Base/dict.jl            460 get!(default::Base.var\"#156#157...\n",
      "     4         0 @Base/dict.jl            169 hashindex\n",
      "     3         0 @Base/dict.jl            310 ht_keyindex2!(h::Dict{Vector{Fl...\n",
      "     1         0 @Base/dict.jl            350 ht_keyindex2!(h::Dict{Vector{Fl...\n",
      "     1         0 @Base/dict.jl            203 rehash!(h::Dict{Vector{Float64}...\n",
      "    44         0 @Base/essentials.jl      708 #invokelatest#2\n",
      "    44         0 @Base/essentials.jl      706 invokelatest\n",
      "     7         0 @Base/floatfuncs.jl      147 #round#655\n",
      "     7         0 @Base/floatfuncs.jl      188 _round_digits(x::Float64, r::Ro...\n",
      "     7         0 @Base/floatfuncs.jl      131 round##kw\n",
      "    24         0 @Base/generator.jl        47 iterate\n",
      "     4         0 @Base/hashing.jl          18 hash\n",
      "     3         0 @Base/hashing.jl          23 hash\n",
      "     1         0 @Base/hashing.jl          71 hash\n",
      "     1         0 @Base/hashing.jl          35 hash_64_64\n",
      "     1         0 @Base/hashing.jl          62 hash_uint64\n",
      "     1         1 @Base/int.jl              87 +\n",
      "    44         0 @Base/loading.jl        1170 _include(mapexpr::Function, mod...\n",
      "    44         0 @Base/loading.jl        1116 include_string(mapexpr::typeof(...\n",
      "     7         7 @Base/math.jl            920 ^\n",
      "     2         0 ...multidimensional.jl   838 _getindex\n",
      "     2         0 ...multidimensional.jl   850 _unsafe_getindex(::IndexLinear,...\n",
      "    17         0 none                       ? (::var\"#13#16\")(k::Int64)\n",
      "     3         3 @Base/reflection.jl      291 objectid\n",
      "   133       133 @Base/task.jl            760 poptask(W::Base.InvasiveLinkedL...\n",
      "   133         0 @Base/task.jl            494 task_done_hook(t::Task)\n",
      "   133         0 @Base/task.jl            769 wait()\n",
      "     1         0 @Base/tuple.jl           398 hash\n",
      "     4         0 ...src/default_dict.jl    69 getindex\n",
      "     4         0 ...res/src/delegate.jl    21 getindex(a::DefaultDict{Vector{...\n",
      "     7         0 ...ation/src/mapper.jl    11 approxVal0\n",
      "    44         0 ...otebook/notebook.jl    32 top-level scope\n",
      "    44         0 @JSONRPC/src/typed.jl     67 dispatch_msg(x::VSCodeServer.JS...\n",
      "    44         0 ...eServer/src/repl.jl   184 withpath(f::VSCodeServer.var\"#1...\n",
      "    44         0 ...c/serve_notebook.jl    19 (::VSCodeServer.var\"#160#161\"{V...\n",
      "    44         0 ...c/serve_notebook.jl   136 serve_notebook(pipename::String...\n",
      "    44         0 ...c/serve_notebook.jl    13 notebook_runcell_request(conn::...\n",
      "    44         0 ...c/serve_notebook.jl    75 (::VSCodeServer.var\"#serve_note...\n",
      "     1         0 ...iopreliminare.ipynb    11 simplifyCells(V::Matrix{Float64...\n",
      "    12         1 ...iopreliminare.ipynb    12 simplifyCells(V::Matrix{Float64...\n",
      "     5         1 ...iopreliminare.ipynb    13 simplifyCells(V::Matrix{Float64...\n",
      "     1         0 ...iopreliminare.ipynb    19 simplifyCells(V::Matrix{Float64...\n",
      "     6         5 ...iopreliminare.ipynb    22 simplifyCells(V::Matrix{Float64...\n",
      "    43         0 ...iopreliminare.ipynb     3 (::var\"#toroidal0#15\"{Float64, ...\n",
      "    17         0 ...iopreliminare.ipynb     5 (::var\"#toroidal0#15\"{Float64, ...\n",
      "    26         1 ...iopreliminare.ipynb     8 (::var\"#toroidal0#15\"{Float64, ...\n",
      "Total snapshots: 177\n"
     ]
    }
   ],
   "source": [
    "using Profile\n",
    "toroidal()()\n",
    "@profile toroidal()()\n",
    "Profile.print(format=:flat)"
   ]
  },
  {
   "cell_type": "markdown",
   "metadata": {},
   "source": [
    "[*Link al repository del progetto*](https://github.com/Asprofumo/mapper.jl/)\n"
   ]
  }
 ],
 "metadata": {
  "kernelspec": {
   "display_name": "Julia 1.6.5",
   "language": "julia",
   "name": "julia-1.6"
  },
  "language_info": {
   "file_extension": ".jl",
   "mimetype": "application/julia",
   "name": "julia",
   "version": "1.6.5"
  }
 },
 "nbformat": 4,
 "nbformat_minor": 3
}
