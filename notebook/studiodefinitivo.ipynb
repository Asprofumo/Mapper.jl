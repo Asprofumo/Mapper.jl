{
 "cells": [
  {
   "cell_type": "markdown",
   "metadata": {},
   "source": [
    "# Studio Definitivo \n",
    "#### Filippo Iacobelli e Luca Rossicone"
   ]
  },
  {
   "cell_type": "markdown",
   "metadata": {},
   "source": [
    "Lo scopo di questa parte conclusiva del progetto è stata quella di realizzare algoritmi che sfruttano la GPU per parallelizzare e ottenere prestazioni ancora migliori.\n",
    "I vari esperimenti li abbiamo eseguiti sul superserver NVIDIA DGX-1, del Laboratorio di Scienze Computazionali."
   ]
  },
  {
   "cell_type": "code",
   "execution_count": null,
   "metadata": {},
   "outputs": [],
   "source": [
    "using CUDA\n",
    "using LinearAlgebraicRepresentation\n",
    "using BenchmarkTools\n",
    "using DataStructures\n",
    "Lar = LinearAlgebraicRepresentation"
   ]
  },
  {
   "cell_type": "markdown",
   "metadata": {},
   "source": [
    "Abbiamo provato ad eseguire diversi esperimenti cercando di sfruttare approcci di tipo diverso. Per far si che le differenze sulle prestazioni fossero più visibili abbiamo aumentato considerevolmente le quantità dei segmenti che costituiscono il dominio."
   ]
  },
  {
   "cell_type": "code",
   "execution_count": null,
   "metadata": {},
   "outputs": [],
   "source": [
    "function circle(radius=1., angle=2*pi)\n",
    "    function circle0(shape=[3600])\n",
    "        V, EV = Lar.cuboidGrid(shape)\n",
    "        V = (angle/shape[1])*V\n",
    "        V = hcat(map(u->[radius*cos(u); radius*sin(u)], V)...)\n",
    "        W, EW = Lar.simplifyCells(V, EV)\n",
    "        return W, EW\n",
    "    end\n",
    "    return circle0\n",
    "end"
   ]
  },
  {
   "cell_type": "markdown",
   "metadata": {},
   "source": [
    "In questo tipo tentativo abbiamo sfruttato i CuArrays per eseguire i prodotti fra vettori e una semplice funzione che viene chiamata da map per eseguire il prodotto fra gli elementi del vettore e il raggio e per il calcolo di seni e coseni."
   ]
  },
  {
   "cell_type": "code",
   "execution_count": null,
   "metadata": {},
   "outputs": [],
   "source": [
    "function circle_map(u,radius)\n",
    "    [radius*cos(u); radius*sin(u)]\n",
    "end"
   ]
  },
  {
   "cell_type": "code",
   "execution_count": null,
   "metadata": {},
   "outputs": [],
   "source": [
    "function circle_cuda(radius=1., angl=2*pi)\n",
    "    function circle0(shape=[3600])\n",
    "        V, EV = Lar.cuboidGrid(shape)\n",
    "        V = CUDA.@sync V.*angl/shape[1]\n",
    "        V = CUDA.@sync map(x -> circle_map(x,radius), V)\n",
    "        V = hcat(V...)\n",
    "        W, EW = Lar.simplifyCells(V, EV)\n",
    "        return W, EW\n",
    "    end\n",
    "    return circle0\n",
    "end"
   ]
  },
  {
   "cell_type": "markdown",
   "metadata": {},
   "source": [
    "Questo secondo tentativo tenta di sfruttare dei kernel per il prodotto del dominio col raggio che vengono lanciati su GPU, in particolare su 256 threads differenti. "
   ]
  },
  {
   "cell_type": "code",
   "execution_count": null,
   "metadata": {},
   "outputs": [],
   "source": [
    "function gpu_mul!(y, x)\n",
    "    index = (blockIdx().x - 1) * blockDim().x + threadIdx().x\n",
    "    stride = gridDim().x * blockDim().x\n",
    "    for i = index:stride:length(y)\n",
    "        @inbounds y[i] *= x[i]\n",
    "    end\n",
    "    return\n",
    "end"
   ]
  },
  {
   "cell_type": "code",
   "execution_count": null,
   "metadata": {},
   "outputs": [],
   "source": [
    "function circle_cuda_slow(radius=1.5, angl=2*pi)\n",
    "    function circle0(shape=[3600])\n",
    "        len = shape[1]+1\n",
    "        numblocks = ceil(Int, shape[1]+1/256)\n",
    "        V, EV = Lar.cuboidGrid(shape)\n",
    "        V = CuArray(V)\n",
    "        r = CUDA.fill(angl/shape[1], shape[1]+1) \n",
    "        @cuda threads=256 blocks=numblocks gpu_mul!(V,r)\n",
    "        W = sin.(V)\n",
    "        V = cos.(V)\n",
    "        fill!(r,1)\n",
    "        @cuda threads=256 blocks=numblocks gpu_mul!(V,r)\n",
    "        @cuda threads=256 blocks=numblocks gpu_mul!(W,r)\n",
    "        V = vcat(V,W)\n",
    "        W, EW = Lar.simplifyCells(V, EV)\n",
    "        return W, EW\n",
    "        end\n",
    "    return circle0\n",
    "end"
   ]
  },
  {
   "cell_type": "code",
   "execution_count": null,
   "metadata": {},
   "outputs": [],
   "source": [
    "@btime circle()()\n",
    "@btime circle_cuda_slow()()\n",
    "@btime circle_cuda()()\n"
   ]
  },
  {
   "cell_type": "markdown",
   "metadata": {},
   "source": [
    "162.281 ms (188455 allocations: 11.44 MiB)\n",
    "\n",
    "5.164 s (687549 allocations: 38.73 MiB)\n",
    "\n",
    "112.335 ms (188460 allocations: 11.47 MiB)\n"
   ]
  },
  {
   "cell_type": "markdown",
   "metadata": {},
   "source": [
    "Altri esperimenti sono stati eseguiti con la funzione `toroidal` la cui esecuzione è decisamente più onerosa rispetto a `circle`."
   ]
  },
  {
   "cell_type": "code",
   "execution_count": null,
   "metadata": {},
   "outputs": [],
   "source": [
    "function toroidal(r=1., R=2., angle1=2*pi, angle2=2*pi)\n",
    "    function toroidal0(shape=[240, 360])\n",
    "        V, CV = Lar.simplexGrid(shape)\n",
    "        V = [angle1/(shape[1]) 0;0 angle2/(shape[2])]*V\n",
    "        W = [V[:, k] for k=1:size(V, 2)]\n",
    "        V = hcat(map(p->let(u, v)=p;[(R+r*cos(u))*cos(v);\n",
    "          (R+r*cos(u))*sin(v);-r*sin(u)]end, W)...)\n",
    "        W, CW = Lar.simplifyCells(V, CV)\n",
    "        return W, CW\n",
    "    end\n",
    "    return toroidal0\n",
    "  end"
   ]
  },
  {
   "cell_type": "markdown",
   "metadata": {},
   "source": [
    "Abbiamo nuovamente tentato di portare i domini della figura su GPU in modo da eseguire i calcoli mediante CuArrays, per poi tornare su CPU solamente per l'esecuzione di `simplifyCells`."
   ]
  },
  {
   "cell_type": "code",
   "execution_count": null,
   "metadata": {},
   "outputs": [],
   "source": [
    "function toroidal_cuda(r=1., R=2., angle1=2*pi, angle2=2*pi)\n",
    "    function toroidal0(shape=[240, 360])\n",
    "        V, CV = Lar.simplexGrid(shape)\n",
    "        V = CuArray(V)\n",
    "        C = CuArray([angle1/(shape[1]) 0;0 angle2/(shape[2])])\n",
    "        V = collect(eachrow(C*V))\n",
    "        u = first(V); z = last(V)\n",
    "        sinU = sin.(u); sinZ = sin.(z)\n",
    "        cosU = cos.(u); cosZ = cos.(z)\n",
    "        tmp = cosU.*r.+R\n",
    "        v = hcat(tmp.*cosZ, tmp.*sinZ, -r*sinU)\n",
    "        V = Array{Float32}(undef, length(u), 3)\n",
    "        copyto!(V,v)\n",
    "        W, CW = Lar.simplifyCells(V', CV)\n",
    "        return W, CW\n",
    "      end\n",
    "    return toroidal0\n",
    "  end"
   ]
  },
  {
   "cell_type": "code",
   "execution_count": null,
   "metadata": {},
   "outputs": [],
   "source": [
    "@btime toroidal()()\n",
    "@btime toroidal_cuda()()"
   ]
  },
  {
   "cell_type": "markdown",
   "metadata": {},
   "source": [
    "8.430 s (4584863 allocations: 695.77 MiB)\n",
    "\n",
    "1.102 s (7163959 allocations: 790.69 MiB)"
   ]
  },
  {
   "cell_type": "markdown",
   "metadata": {},
   "source": [
    "[*Link al repository del progetto*](https://bitbucket.org/zoso9999/mapper.jl/src/main/)"
   ]
  }
 ],
 "metadata": {
  "kernelspec": {
   "display_name": "Julia 1.6.5",
   "language": "julia",
   "name": "julia-1.6"
  },
  "language_info": {
   "file_extension": ".jl",
   "mimetype": "application/julia",
   "name": "julia",
   "version": "1.6.5"
  },
  "orig_nbformat": 4
 },
 "nbformat": 4,
 "nbformat_minor": 2
}
